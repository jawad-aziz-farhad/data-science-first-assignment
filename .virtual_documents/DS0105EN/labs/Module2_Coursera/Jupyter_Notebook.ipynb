
































# This a simple arithmetic expression to mutiply then add integers
arithmeticExpressionResult = (3 * 4) + 5
print(arithmeticExpressionResult)



# This will convert 200 minutes to hours by diving by 60
hours = 200 / 60;
print(hours)















